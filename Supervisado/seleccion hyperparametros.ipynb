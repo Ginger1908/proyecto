{
 "cells": [
  {
   "cell_type": "markdown",
   "id": "7b4b8e5d",
   "metadata": {},
   "source": [
    "Importar librerías necesarias"
   ]
  },
  {
   "cell_type": "code",
   "execution_count": 1,
   "id": "534e4b34",
   "metadata": {},
   "outputs": [],
   "source": [
    "\n",
    "import pandas as pd\n",
    "from sklearn.model_selection import train_test_split, GridSearchCV\n",
    "from sklearn.ensemble import RandomForestClassifier\n",
    "from sklearn.feature_selection import SelectFromModel\n",
    "from sklearn.metrics import classification_report, accuracy_score\n"
   ]
  },
  {
   "cell_type": "markdown",
   "id": "de5b793d",
   "metadata": {},
   "source": [
    "Cargar dataset OCR"
   ]
  },
  {
   "cell_type": "code",
   "execution_count": 2,
   "id": "fac5cc1f",
   "metadata": {},
   "outputs": [
    {
     "name": "stdout",
     "output_type": "stream",
     "text": [
      "Tamaño del dataset después de eliminar NaN: (585, 21)\n",
      "Columnas disponibles: Index(['Tx', 'Rx', 'Various Points', 'SNR Receiver', 'SNR Stages',\n",
      "       'BER Receiver', 'BER Environmental', 'Modulation Format',\n",
      "       'Modulation Depth', 'Transmission Distance', 'Distance Between',\n",
      "       'Fiber Attenuation', 'Splice Losses', 'Optical Amplifier Gain',\n",
      "       'PMD Coefficient', 'PMD Compensation', 'CD Coefficient',\n",
      "       'CD Compensation', 'Temperature', 'Humidity', 'Signal Quality'],\n",
      "      dtype='object')\n"
     ]
    },
    {
     "data": {
      "application/vnd.microsoft.datawrangler.viewer.v0+json": {
       "columns": [
        {
         "name": "index",
         "rawType": "int64",
         "type": "integer"
        },
        {
         "name": "Tx",
         "rawType": "float64",
         "type": "float"
        },
        {
         "name": "Rx",
         "rawType": "float64",
         "type": "float"
        },
        {
         "name": "Various Points",
         "rawType": "float64",
         "type": "float"
        },
        {
         "name": "SNR Receiver",
         "rawType": "float64",
         "type": "float"
        },
        {
         "name": "SNR Stages",
         "rawType": "float64",
         "type": "float"
        },
        {
         "name": "BER Receiver",
         "rawType": "float64",
         "type": "float"
        },
        {
         "name": "BER Environmental",
         "rawType": "float64",
         "type": "float"
        },
        {
         "name": "Modulation Format",
         "rawType": "object",
         "type": "string"
        },
        {
         "name": "Modulation Depth",
         "rawType": "float64",
         "type": "float"
        },
        {
         "name": "Transmission Distance",
         "rawType": "int64",
         "type": "integer"
        },
        {
         "name": "Distance Between",
         "rawType": "int64",
         "type": "integer"
        },
        {
         "name": "Fiber Attenuation",
         "rawType": "float64",
         "type": "float"
        },
        {
         "name": "Splice Losses",
         "rawType": "float64",
         "type": "float"
        },
        {
         "name": "Optical Amplifier Gain",
         "rawType": "int64",
         "type": "integer"
        },
        {
         "name": "PMD Coefficient",
         "rawType": "float64",
         "type": "float"
        },
        {
         "name": "PMD Compensation",
         "rawType": "object",
         "type": "string"
        },
        {
         "name": "CD Coefficient",
         "rawType": "float64",
         "type": "float"
        },
        {
         "name": "CD Compensation",
         "rawType": "object",
         "type": "string"
        },
        {
         "name": "Temperature",
         "rawType": "float64",
         "type": "float"
        },
        {
         "name": "Humidity",
         "rawType": "float64",
         "type": "float"
        },
        {
         "name": "Signal Quality",
         "rawType": "object",
         "type": "string"
        }
       ],
       "ref": "e627f3fa-b45e-4dbc-8130-b0e933d28b5b",
       "rows": [
        [
         "0",
         "10.5",
         "15.2",
         "12.8",
         "23.6",
         "22.1",
         "1.2e-06",
         "1.5e-06",
         "AM",
         "0.8",
         "20",
         "5",
         "0.1",
         "0.2",
         "10",
         "0.05",
         "PMD Compensated",
         "0.03",
         "CD Compensated",
         "25.0",
         "60.0",
         "Good"
        ],
        [
         "1",
         "11.2",
         "16.5",
         "12.6",
         "24.2",
         "22.8",
         "1.4e-06",
         "1.6e-06",
         "FM",
         "0.7",
         "21",
         "6",
         "0.11",
         "0.22",
         "12",
         "0.06",
         "PMD Compensated",
         "0.04",
         "CD Compensated",
         "26.0",
         "61.0",
         "Good"
        ],
        [
         "2",
         "9.8",
         "14.8",
         "12.9",
         "23.4",
         "21.9",
         "1.1e-06",
         "1.4e-06",
         "PM",
         "0.9",
         "19",
         "4",
         "0.09",
         "0.18",
         "9",
         "0.04",
         "PMD Compensated",
         "0.02",
         "CD Compensated",
         "24.0",
         "59.0",
         "Good"
        ],
        [
         "3",
         "12.1",
         "18.2",
         "13.2",
         "24.8",
         "23.5",
         "1.6e-06",
         "1.7e-06",
         "AM",
         "0.8",
         "22",
         "7",
         "0.12",
         "0.24",
         "11",
         "0.07",
         "PMD Compensated",
         "0.05",
         "CD Compensated",
         "27.0",
         "62.0",
         "Good"
        ],
        [
         "4",
         "10.9",
         "15.8",
         "13.0",
         "24.0",
         "22.5",
         "1.3e-06",
         "1.5e-06",
         "FM",
         "0.7",
         "20",
         "5",
         "0.1",
         "0.2",
         "10",
         "0.05",
         "PMD Compensated",
         "0.03",
         "CD Compensated",
         "25.0",
         "60.0",
         "Good"
        ]
       ],
       "shape": {
        "columns": 21,
        "rows": 5
       }
      },
      "text/html": [
       "<div>\n",
       "<style scoped>\n",
       "    .dataframe tbody tr th:only-of-type {\n",
       "        vertical-align: middle;\n",
       "    }\n",
       "\n",
       "    .dataframe tbody tr th {\n",
       "        vertical-align: top;\n",
       "    }\n",
       "\n",
       "    .dataframe thead th {\n",
       "        text-align: right;\n",
       "    }\n",
       "</style>\n",
       "<table border=\"1\" class=\"dataframe\">\n",
       "  <thead>\n",
       "    <tr style=\"text-align: right;\">\n",
       "      <th></th>\n",
       "      <th>Tx</th>\n",
       "      <th>Rx</th>\n",
       "      <th>Various Points</th>\n",
       "      <th>SNR Receiver</th>\n",
       "      <th>SNR Stages</th>\n",
       "      <th>BER Receiver</th>\n",
       "      <th>BER Environmental</th>\n",
       "      <th>Modulation Format</th>\n",
       "      <th>Modulation Depth</th>\n",
       "      <th>Transmission Distance</th>\n",
       "      <th>...</th>\n",
       "      <th>Fiber Attenuation</th>\n",
       "      <th>Splice Losses</th>\n",
       "      <th>Optical Amplifier Gain</th>\n",
       "      <th>PMD Coefficient</th>\n",
       "      <th>PMD Compensation</th>\n",
       "      <th>CD Coefficient</th>\n",
       "      <th>CD Compensation</th>\n",
       "      <th>Temperature</th>\n",
       "      <th>Humidity</th>\n",
       "      <th>Signal Quality</th>\n",
       "    </tr>\n",
       "  </thead>\n",
       "  <tbody>\n",
       "    <tr>\n",
       "      <th>0</th>\n",
       "      <td>10.5</td>\n",
       "      <td>15.2</td>\n",
       "      <td>12.8</td>\n",
       "      <td>23.6</td>\n",
       "      <td>22.1</td>\n",
       "      <td>0.000001</td>\n",
       "      <td>0.000002</td>\n",
       "      <td>AM</td>\n",
       "      <td>0.8</td>\n",
       "      <td>20</td>\n",
       "      <td>...</td>\n",
       "      <td>0.10</td>\n",
       "      <td>0.20</td>\n",
       "      <td>10</td>\n",
       "      <td>0.05</td>\n",
       "      <td>PMD Compensated</td>\n",
       "      <td>0.03</td>\n",
       "      <td>CD Compensated</td>\n",
       "      <td>25.0</td>\n",
       "      <td>60.0</td>\n",
       "      <td>Good</td>\n",
       "    </tr>\n",
       "    <tr>\n",
       "      <th>1</th>\n",
       "      <td>11.2</td>\n",
       "      <td>16.5</td>\n",
       "      <td>12.6</td>\n",
       "      <td>24.2</td>\n",
       "      <td>22.8</td>\n",
       "      <td>0.000001</td>\n",
       "      <td>0.000002</td>\n",
       "      <td>FM</td>\n",
       "      <td>0.7</td>\n",
       "      <td>21</td>\n",
       "      <td>...</td>\n",
       "      <td>0.11</td>\n",
       "      <td>0.22</td>\n",
       "      <td>12</td>\n",
       "      <td>0.06</td>\n",
       "      <td>PMD Compensated</td>\n",
       "      <td>0.04</td>\n",
       "      <td>CD Compensated</td>\n",
       "      <td>26.0</td>\n",
       "      <td>61.0</td>\n",
       "      <td>Good</td>\n",
       "    </tr>\n",
       "    <tr>\n",
       "      <th>2</th>\n",
       "      <td>9.8</td>\n",
       "      <td>14.8</td>\n",
       "      <td>12.9</td>\n",
       "      <td>23.4</td>\n",
       "      <td>21.9</td>\n",
       "      <td>0.000001</td>\n",
       "      <td>0.000001</td>\n",
       "      <td>PM</td>\n",
       "      <td>0.9</td>\n",
       "      <td>19</td>\n",
       "      <td>...</td>\n",
       "      <td>0.09</td>\n",
       "      <td>0.18</td>\n",
       "      <td>9</td>\n",
       "      <td>0.04</td>\n",
       "      <td>PMD Compensated</td>\n",
       "      <td>0.02</td>\n",
       "      <td>CD Compensated</td>\n",
       "      <td>24.0</td>\n",
       "      <td>59.0</td>\n",
       "      <td>Good</td>\n",
       "    </tr>\n",
       "    <tr>\n",
       "      <th>3</th>\n",
       "      <td>12.1</td>\n",
       "      <td>18.2</td>\n",
       "      <td>13.2</td>\n",
       "      <td>24.8</td>\n",
       "      <td>23.5</td>\n",
       "      <td>0.000002</td>\n",
       "      <td>0.000002</td>\n",
       "      <td>AM</td>\n",
       "      <td>0.8</td>\n",
       "      <td>22</td>\n",
       "      <td>...</td>\n",
       "      <td>0.12</td>\n",
       "      <td>0.24</td>\n",
       "      <td>11</td>\n",
       "      <td>0.07</td>\n",
       "      <td>PMD Compensated</td>\n",
       "      <td>0.05</td>\n",
       "      <td>CD Compensated</td>\n",
       "      <td>27.0</td>\n",
       "      <td>62.0</td>\n",
       "      <td>Good</td>\n",
       "    </tr>\n",
       "    <tr>\n",
       "      <th>4</th>\n",
       "      <td>10.9</td>\n",
       "      <td>15.8</td>\n",
       "      <td>13.0</td>\n",
       "      <td>24.0</td>\n",
       "      <td>22.5</td>\n",
       "      <td>0.000001</td>\n",
       "      <td>0.000002</td>\n",
       "      <td>FM</td>\n",
       "      <td>0.7</td>\n",
       "      <td>20</td>\n",
       "      <td>...</td>\n",
       "      <td>0.10</td>\n",
       "      <td>0.20</td>\n",
       "      <td>10</td>\n",
       "      <td>0.05</td>\n",
       "      <td>PMD Compensated</td>\n",
       "      <td>0.03</td>\n",
       "      <td>CD Compensated</td>\n",
       "      <td>25.0</td>\n",
       "      <td>60.0</td>\n",
       "      <td>Good</td>\n",
       "    </tr>\n",
       "  </tbody>\n",
       "</table>\n",
       "<p>5 rows × 21 columns</p>\n",
       "</div>"
      ],
      "text/plain": [
       "     Tx    Rx  Various Points  SNR Receiver  SNR Stages  BER Receiver  \\\n",
       "0  10.5  15.2            12.8          23.6        22.1      0.000001   \n",
       "1  11.2  16.5            12.6          24.2        22.8      0.000001   \n",
       "2   9.8  14.8            12.9          23.4        21.9      0.000001   \n",
       "3  12.1  18.2            13.2          24.8        23.5      0.000002   \n",
       "4  10.9  15.8            13.0          24.0        22.5      0.000001   \n",
       "\n",
       "   BER Environmental Modulation Format  Modulation Depth  \\\n",
       "0           0.000002                AM               0.8   \n",
       "1           0.000002                FM               0.7   \n",
       "2           0.000001                PM               0.9   \n",
       "3           0.000002                AM               0.8   \n",
       "4           0.000002                FM               0.7   \n",
       "\n",
       "   Transmission Distance  ...  Fiber Attenuation  Splice Losses  \\\n",
       "0                     20  ...               0.10           0.20   \n",
       "1                     21  ...               0.11           0.22   \n",
       "2                     19  ...               0.09           0.18   \n",
       "3                     22  ...               0.12           0.24   \n",
       "4                     20  ...               0.10           0.20   \n",
       "\n",
       "   Optical Amplifier Gain  PMD Coefficient  PMD Compensation CD Coefficient  \\\n",
       "0                      10             0.05   PMD Compensated           0.03   \n",
       "1                      12             0.06   PMD Compensated           0.04   \n",
       "2                       9             0.04   PMD Compensated           0.02   \n",
       "3                      11             0.07   PMD Compensated           0.05   \n",
       "4                      10             0.05   PMD Compensated           0.03   \n",
       "\n",
       "   CD Compensation Temperature  Humidity  Signal Quality  \n",
       "0   CD Compensated        25.0      60.0            Good  \n",
       "1   CD Compensated        26.0      61.0            Good  \n",
       "2   CD Compensated        24.0      59.0            Good  \n",
       "3   CD Compensated        27.0      62.0            Good  \n",
       "4   CD Compensated        25.0      60.0            Good  \n",
       "\n",
       "[5 rows x 21 columns]"
      ]
     },
     "execution_count": 2,
     "metadata": {},
     "output_type": "execute_result"
    }
   ],
   "source": [
    "df = pd.read_csv(r\"D:\\MAXITEL\\Escritorio\\ginger\\MAESTRIA\\INTELIGENCIA ARTIFICIAL\\proyecto-ml-telecom\\Supervisado\\ocrdataset.csv\")\n",
    "\n",
    "# Eliminar filas con valores NaN\n",
    "df = df.dropna()\n",
    "\n",
    "print(\"Tamaño del dataset después de eliminar NaN:\", df.shape)\n",
    "print(\"Columnas disponibles:\", df.columns)\n",
    "df.head()"
   ]
  },
  {
   "cell_type": "markdown",
   "id": "6546df73",
   "metadata": {},
   "source": [
    "Separar características y etiquetas"
   ]
  },
  {
   "cell_type": "code",
   "execution_count": 3,
   "id": "50c69ccf",
   "metadata": {},
   "outputs": [],
   "source": [
    "# Ajusta \"Signal Quality\" si tu dataset tiene otro nombre\n",
    "target_col = \"Signal Quality\"  \n",
    "X = df.drop(target_col, axis=1)\n",
    "y = df[target_col]\n",
    "\n",
    "# División en train / test\n",
    "X_train, X_test, y_train, y_test = train_test_split(\n",
    "    X, y, test_size=0.2, random_state=42\n",
    ")"
   ]
  },
  {
   "cell_type": "markdown",
   "id": "2327f780",
   "metadata": {},
   "source": [
    "Selección de características con Random Forest"
   ]
  },
  {
   "cell_type": "code",
   "execution_count": 7,
   "id": "ebc3abfa",
   "metadata": {},
   "outputs": [
    {
     "name": "stdout",
     "output_type": "stream",
     "text": [
      "Características originales: 22\n",
      "Características seleccionadas: 11\n"
     ]
    },
    {
     "name": "stderr",
     "output_type": "stream",
     "text": [
      "C:\\Users\\cris2\\AppData\\Local\\Packages\\PythonSoftwareFoundation.Python.3.11_qbz5n2kfra8p0\\LocalCache\\local-packages\\Python311\\site-packages\\sklearn\\utils\\validation.py:2742: UserWarning: X has feature names, but SelectFromModel was fitted without feature names\n",
      "  warnings.warn(\n",
      "C:\\Users\\cris2\\AppData\\Local\\Packages\\PythonSoftwareFoundation.Python.3.11_qbz5n2kfra8p0\\LocalCache\\local-packages\\Python311\\site-packages\\sklearn\\utils\\validation.py:2742: UserWarning: X has feature names, but SelectFromModel was fitted without feature names\n",
      "  warnings.warn(\n"
     ]
    }
   ],
   "source": [
    "# ...existing code...\n",
    "# Codifica variables categóricas antes de usar RandomForest\n",
    "X_train_enc = pd.get_dummies(X_train)\n",
    "X_test_enc = pd.get_dummies(X_test)\n",
    "\n",
    "# Alinea columnas para que ambos tengan las mismas características\n",
    "X_train_enc, X_test_enc = X_train_enc.align(X_test_enc, join='left', axis=1, fill_value=0)\n",
    "\n",
    "# Ahora puedes entrenar el selector\n",
    "rf_selector = RandomForestClassifier(n_estimators=100, random_state=42)\n",
    "rf_selector.fit(X_train_enc, y_train)\n",
    "\n",
    "selector = SelectFromModel(rf_selector, prefit=True, threshold=\"median\")\n",
    "X_train_selected = selector.transform(X_train_enc)\n",
    "X_test_selected = selector.transform(X_test_enc)\n",
    "\n",
    "print(\"Características originales:\", X_train_enc.shape[1])\n",
    "print(\"Características seleccionadas:\", X_train_selected.shape[1])\n",
    "# ...existing code..."
   ]
  },
  {
   "cell_type": "markdown",
   "id": "58a18032",
   "metadata": {},
   "source": [
    "Selección de hiperparámetros con GridSearchCV"
   ]
  },
  {
   "cell_type": "code",
   "execution_count": 8,
   "id": "62773e3e",
   "metadata": {},
   "outputs": [
    {
     "name": "stdout",
     "output_type": "stream",
     "text": [
      "Fitting 5 folds for each of 108 candidates, totalling 540 fits\n",
      "Mejores hiperparámetros: {'max_depth': None, 'min_samples_leaf': 1, 'min_samples_split': 2, 'n_estimators': 100}\n"
     ]
    }
   ],
   "source": [
    "param_grid = {\n",
    "    \"n_estimators\": [100, 200, 300],\n",
    "    \"max_depth\": [None, 10, 20, 30],\n",
    "    \"min_samples_split\": [2, 5, 10],\n",
    "    \"min_samples_leaf\": [1, 2, 4]\n",
    "}\n",
    "\n",
    "grid_search = GridSearchCV(\n",
    "    RandomForestClassifier(random_state=42),\n",
    "    param_grid,\n",
    "    cv=5,\n",
    "    n_jobs=-1,\n",
    "    verbose=2,\n",
    "    scoring=\"accuracy\"\n",
    ")\n",
    "\n",
    "grid_search.fit(X_train_selected, y_train)\n",
    "print(\"Mejores hiperparámetros:\", grid_search.best_params_)"
   ]
  },
  {
   "cell_type": "markdown",
   "id": "d63c246d",
   "metadata": {},
   "source": [
    "Evaluación del modelo"
   ]
  },
  {
   "cell_type": "code",
   "execution_count": 9,
   "id": "05d9c967",
   "metadata": {},
   "outputs": [
    {
     "name": "stdout",
     "output_type": "stream",
     "text": [
      "Accuracy en test: 1.0\n",
      "\n",
      "Reporte de clasificación:\n",
      "               precision    recall  f1-score   support\n",
      "\n",
      "        Good       1.00      1.00      1.00       108\n",
      "        Poor       1.00      1.00      1.00         9\n",
      "\n",
      "    accuracy                           1.00       117\n",
      "   macro avg       1.00      1.00      1.00       117\n",
      "weighted avg       1.00      1.00      1.00       117\n",
      "\n"
     ]
    }
   ],
   "source": [
    "best_rf = grid_search.best_estimator_\n",
    "y_pred = best_rf.predict(X_test_selected)\n",
    "\n",
    "print(\"Accuracy en test:\", accuracy_score(y_test, y_pred))\n",
    "print(\"\\nReporte de clasificación:\\n\", classification_report(y_test, y_pred))"
   ]
  }
 ],
 "metadata": {
  "kernelspec": {
   "display_name": "Python 3",
   "language": "python",
   "name": "python3"
  },
  "language_info": {
   "codemirror_mode": {
    "name": "ipython",
    "version": 3
   },
   "file_extension": ".py",
   "mimetype": "text/x-python",
   "name": "python",
   "nbconvert_exporter": "python",
   "pygments_lexer": "ipython3",
   "version": "3.11.9"
  }
 },
 "nbformat": 4,
 "nbformat_minor": 5
}
